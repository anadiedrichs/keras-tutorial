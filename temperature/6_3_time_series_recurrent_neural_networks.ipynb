{
  "nbformat": 4,
  "nbformat_minor": 0,
  "metadata": {
    "colab": {
      "name": "6.3-advanced-usage-of-recurrent-neural-networks.ipynb",
      "version": "0.3.2",
      "provenance": [],
      "collapsed_sections": [
        "J3nntQp6Y-Vy"
      ]
    },
    "kernelspec": {
      "display_name": "Python 3",
      "language": "python",
      "name": "python3"
    }
  },
  "cells": [
    {
      "metadata": {
        "id": "Sm71sWGOY-QE",
        "colab_type": "code",
        "colab": {
          "base_uri": "https://localhost:8080/",
          "height": 35
        },
        "outputId": "42b66e41-3f98-4d6f-d0e3-dd4a1e1fcb7c"
      },
      "cell_type": "code",
      "source": [
        "import keras\n",
        "keras.__version__"
      ],
      "execution_count": 34,
      "outputs": [
        {
          "output_type": "execute_result",
          "data": {
            "text/plain": [
              "'2.1.6'"
            ]
          },
          "metadata": {
            "tags": []
          },
          "execution_count": 34
        }
      ]
    },
    {
      "metadata": {
        "id": "6kdyROuV2J_I",
        "colab_type": "code",
        "colab": {
          "base_uri": "https://localhost:8080/",
          "height": 35
        },
        "outputId": "02cd3baa-43ca-423a-cbfe-4dc0030eed8c"
      },
      "cell_type": "code",
      "source": [
        "!python --version"
      ],
      "execution_count": 35,
      "outputs": [
        {
          "output_type": "stream",
          "text": [
            "Python 3.6.3\r\n"
          ],
          "name": "stdout"
        }
      ]
    },
    {
      "metadata": {
        "id": "hjA88dz2bzK2",
        "colab_type": "code",
        "colab": {
          "base_uri": "https://localhost:8080/",
          "height": 53
        },
        "outputId": "0928e0b1-e09e-424c-fd28-78d6ae90bb9b"
      },
      "cell_type": "code",
      "source": [
        "#check python version\n",
        "print(sys.version)"
      ],
      "execution_count": 36,
      "outputs": [
        {
          "output_type": "stream",
          "text": [
            "3.6.3 (default, Oct  3 2017, 21:45:48) \n",
            "[GCC 7.2.0]\n"
          ],
          "name": "stdout"
        }
      ]
    },
    {
      "metadata": {
        "id": "EEcLVUtQbzps",
        "colab_type": "code",
        "colab": {
          "base_uri": "https://localhost:8080/",
          "height": 53
        },
        "outputId": "f453a61d-87a0-4134-9e3e-e107a041c1bb"
      },
      "cell_type": "code",
      "source": [
        "#check directory names\n",
        "import os\n",
        "print( os.getcwd() )\n",
        "print( os.listdir() )"
      ],
      "execution_count": 43,
      "outputs": [
        {
          "output_type": "stream",
          "text": [
            "/content/time-series-temp\n",
            "['jena_climate_2009_2016.csv', 'drive']\n"
          ],
          "name": "stdout"
        }
      ]
    },
    {
      "metadata": {
        "id": "SFkmvt1CcYdg",
        "colab_type": "code",
        "colab": {
          "base_uri": "https://localhost:8080/",
          "height": 35
        },
        "outputId": "0c5559d9-c89d-4816-9a86-30927dd68a97"
      },
      "cell_type": "code",
      "source": [
        "!pwd # current working directory"
      ],
      "execution_count": 38,
      "outputs": [
        {
          "output_type": "stream",
          "text": [
            "/content/time-series-temp\r\n"
          ],
          "name": "stdout"
        }
      ]
    },
    {
      "metadata": {
        "id": "TfmuQt4MoSnY",
        "colab_type": "code",
        "colab": {
          "base_uri": "https://localhost:8080/",
          "height": 108
        },
        "outputId": "8236e615-4ee1-4ea2-a523-bafda298a283"
      },
      "cell_type": "code",
      "source": [
        "# google drive authorization\n",
        "!apt-get install -y -qq software-properties-common python-software-properties module-init-tools\n",
        "!add-apt-repository -y ppa:alessandro-strada/ppa 2>&1 > /dev/null\n",
        "!apt-get update -qq 2>&1 > /dev/null\n",
        "!apt-get -y install -qq google-drive-ocamlfuse fuse\n",
        "from google.colab import auth\n",
        "auth.authenticate_user()\n",
        "from oauth2client.client import GoogleCredentials\n",
        "creds = GoogleCredentials.get_application_default()\n",
        "import getpass\n",
        "!google-drive-ocamlfuse -headless -id={creds.client_id} -secret={creds.client_secret} < /dev/null 2>&1 | grep URL\n",
        "vcode = getpass.getpass()\n",
        "!echo {vcode} | google-drive-ocamlfuse -headless -id={creds.client_id} -secret={creds.client_secret}"
      ],
      "execution_count": 39,
      "outputs": [
        {
          "output_type": "stream",
          "text": [
            "Please, open the following URL in a web browser: https://accounts.google.com/o/oauth2/auth?client_id=32555940559.apps.googleusercontent.com&redirect_uri=urn%3Aietf%3Awg%3Aoauth%3A2.0%3Aoob&scope=https%3A%2F%2Fwww.googleapis.com%2Fauth%2Fdrive&response_type=code&access_type=offline&approval_prompt=force\r\n",
            "··········\n",
            "Please, open the following URL in a web browser: https://accounts.google.com/o/oauth2/auth?client_id=32555940559.apps.googleusercontent.com&redirect_uri=urn%3Aietf%3Awg%3Aoauth%3A2.0%3Aoob&scope=https%3A%2F%2Fwww.googleapis.com%2Fauth%2Fdrive&response_type=code&access_type=offline&approval_prompt=force\n",
            "Please enter the verification code: Access token retrieved correctly.\n"
          ],
          "name": "stdout"
        }
      ]
    },
    {
      "metadata": {
        "id": "b08pbN50ngNm",
        "colab_type": "code",
        "colab": {}
      },
      "cell_type": "code",
      "source": [
        "# mount your google drive \n",
        "!mkdir -p drive\n",
        "!google-drive-ocamlfuse drive"
      ],
      "execution_count": 0,
      "outputs": []
    },
    {
      "metadata": {
        "id": "NxUFKCeAcgFs",
        "colab_type": "code",
        "colab": {}
      },
      "cell_type": "code",
      "source": [
        "!mkdir -p drive/time-series-temp"
      ],
      "execution_count": 0,
      "outputs": []
    },
    {
      "metadata": {
        "id": "VagkZnEFrYmy",
        "colab_type": "code",
        "colab": {
          "base_uri": "https://localhost:8080/",
          "height": 35
        },
        "outputId": "44e13e7a-5282-44ce-b7c7-301f54b9c606"
      },
      "cell_type": "code",
      "source": [
        "#TODO create a folder in my drive\n",
        "#TODO move current pwd to my folder\n",
        "!ls"
      ],
      "execution_count": 42,
      "outputs": [
        {
          "output_type": "stream",
          "text": [
            "drive  jena_climate_2009_2016.csv\r\n"
          ],
          "name": "stdout"
        }
      ]
    },
    {
      "metadata": {
        "id": "I6N0iOMycorI",
        "colab_type": "code",
        "colab": {
          "base_uri": "https://localhost:8080/",
          "height": 189
        },
        "outputId": "8578577a-4467-45e6-818c-74b79e3b024a"
      },
      "cell_type": "code",
      "source": [
        "#@title Default title text\n",
        "import os\n",
        "os.chdir('time-series-temp')"
      ],
      "execution_count": 44,
      "outputs": [
        {
          "output_type": "error",
          "ename": "FileNotFoundError",
          "evalue": "ignored",
          "traceback": [
            "\u001b[0;31m---------------------------------------------------------------------------\u001b[0m",
            "\u001b[0;31mFileNotFoundError\u001b[0m                         Traceback (most recent call last)",
            "\u001b[0;32m<ipython-input-44-90de7fde78fa>\u001b[0m in \u001b[0;36m<module>\u001b[0;34m()\u001b[0m\n\u001b[1;32m      1\u001b[0m \u001b[0;32mimport\u001b[0m \u001b[0mos\u001b[0m\u001b[0;34m\u001b[0m\u001b[0m\n\u001b[0;32m----> 2\u001b[0;31m \u001b[0mos\u001b[0m\u001b[0;34m.\u001b[0m\u001b[0mchdir\u001b[0m\u001b[0;34m(\u001b[0m\u001b[0;34m'time-series-temp'\u001b[0m\u001b[0;34m)\u001b[0m\u001b[0;34m\u001b[0m\u001b[0m\n\u001b[0m",
            "\u001b[0;31mFileNotFoundError\u001b[0m: [Errno 2] No such file or directory: 'time-series-temp'"
          ]
        }
      ]
    },
    {
      "metadata": {
        "id": "ohFSjQJzc7KI",
        "colab_type": "text"
      },
      "cell_type": "markdown",
      "source": [
        "More about using files, dirs, download data from collaboratory in \n",
        "https://stackoverflow.com/questions/49031798/when-i-use-google-colaboratory-how-to-save-image-weights-in-my-google-drive\n"
      ]
    },
    {
      "metadata": {
        "id": "5Z6yB_QzY-Qc",
        "colab_type": "text"
      },
      "cell_type": "markdown",
      "source": [
        "# Advanced usage of recurrent neural networks\n",
        "\n",
        "This notebook contains the code samples found in Chapter 6, Section 3 of [Deep Learning with Python](https://www.manning.com/books/deep-learning-with-python?a_aid=keras&a_bid=76564dff). Note that the original text features far more content, in particular further explanations and figures: in this notebook, you will only find source code and related comments.\n",
        "\n",
        "---\n",
        "\n",
        "In this section, we will review three advanced techniques for improving the performance and generalization power of recurrent neural \n",
        "networks. By the end of the section, you will know most of what there is to know about using recurrent networks with Keras. We will \n",
        "demonstrate all three concepts on a weather forecasting problem, where we have access to a timeseries of data points coming from sensors \n",
        "installed on the roof of a building, such as temperature, air pressure, and humidity, which we use to predict what the temperature will be \n",
        "24 hours after the last data point collected. This is a fairly challenging problem that exemplifies many common difficulties encountered \n",
        "when working with timeseries.\n",
        "\n",
        "We will cover the following techniques:\n",
        "\n",
        "* *Recurrent dropout*, a specific, built-in way to use dropout to fight overfitting in recurrent layers.\n",
        "* *Stacking recurrent layers*, to increase the representational power of the network (at the cost of higher computational loads).\n",
        "* *Bidirectional recurrent layers*, which presents the same information to a recurrent network in different ways, increasing accuracy and \n",
        "mitigating forgetting issues."
      ]
    },
    {
      "metadata": {
        "id": "YdXCVH7OY-Qg",
        "colab_type": "text"
      },
      "cell_type": "markdown",
      "source": [
        "## A temperature forecasting problem\n",
        "\n",
        "Until now, the only sequence data we have covered has been text data, for instance the IMDB dataset and the Reuters dataset. But sequence \n",
        "data is found in many more problems than just language processing. In all of our examples in this section, we will be playing with a weather \n",
        "timeseries dataset recorded at the Weather Station at the Max-Planck-Institute for Biogeochemistry in Jena, Germany: http://www.bgc-jena.mpg.de/wetter/.\n",
        "\n",
        "In this dataset, fourteen different quantities (such air temperature, atmospheric pressure, humidity, wind direction, etc.) are recorded \n",
        "every ten minutes, over several years. The original data goes back to 2003, but we limit ourselves to data from 2009-2016. This dataset is \n",
        "perfect for learning to work with numerical timeseries. We will use it to build a model that takes as input some data from the recent past (a \n",
        "few days worth of data points) and predicts the air temperature 24 hours in the future."
      ]
    },
    {
      "metadata": {
        "id": "PZ3-YX5dY-Qk",
        "colab_type": "text"
      },
      "cell_type": "markdown",
      "source": [
        "Let's take a look at the data:"
      ]
    },
    {
      "metadata": {
        "id": "KDWkIPiQZJfc",
        "colab_type": "code",
        "colab": {}
      },
      "cell_type": "code",
      "source": [
        "#weather archive Jenna \n",
        "\n",
        "from io import StringIO\n",
        "from zipfile import ZipFile\n",
        "from urllib.request import urlopen\n",
        "#from urllib import urlopen\n",
        "\n",
        "URL = \"https://s3.amazonaws.com/keras-datasets/jena_climate_2009_2016.csv.zip\"\n",
        "\n",
        "import requests, zipfile, io\n",
        "r = requests.get(URL)\n",
        "z = zipfile.ZipFile(io.BytesIO(r.content))\n",
        "z.extractall(\"/drive/time-series-temp\")\n",
        "z.close()\n",
        "\n",
        "    "
      ],
      "execution_count": 0,
      "outputs": []
    },
    {
      "metadata": {
        "id": "eIqPUCTDf4Ms",
        "colab_type": "code",
        "colab": {
          "base_uri": "https://localhost:8080/",
          "height": 35
        },
        "outputId": "e9440e95-3b0f-4f6b-cc6a-5a6cd6dbf453"
      },
      "cell_type": "code",
      "source": [
        "!ls"
      ],
      "execution_count": 46,
      "outputs": [
        {
          "output_type": "stream",
          "text": [
            "drive  jena_climate_2009_2016.csv\r\n"
          ],
          "name": "stdout"
        }
      ]
    },
    {
      "metadata": {
        "id": "uuCbJRH0Y-Qm",
        "colab_type": "code",
        "colab": {
          "base_uri": "https://localhost:8080/",
          "height": 73
        },
        "outputId": "0d664b67-5b97-4ab1-90cb-111be0ae7563"
      },
      "cell_type": "code",
      "source": [
        "import os\n",
        "\n",
        "data_dir = '/drive/time-series-temp'\n",
        "fname = os.path.join(data_dir, 'jena_climate_2009_2016.csv')\n",
        "\n",
        "f = open(fname)\n",
        "data = f.read()\n",
        "f.close()\n",
        "\n",
        "lines = data.split('\\n')\n",
        "header = lines[0].split(',')\n",
        "lines = lines[1:]\n",
        "\n",
        "print(header)\n",
        "print(len(lines))"
      ],
      "execution_count": 47,
      "outputs": [
        {
          "output_type": "stream",
          "text": [
            "['\"Date Time\"', '\"p (mbar)\"', '\"T (degC)\"', '\"Tpot (K)\"', '\"Tdew (degC)\"', '\"rh (%)\"', '\"VPmax (mbar)\"', '\"VPact (mbar)\"', '\"VPdef (mbar)\"', '\"sh (g/kg)\"', '\"H2OC (mmol/mol)\"', '\"rho (g/m**3)\"', '\"wv (m/s)\"', '\"max. wv (m/s)\"', '\"wd (deg)\"']\n",
            "420551\n"
          ],
          "name": "stdout"
        }
      ]
    },
    {
      "metadata": {
        "id": "VlsSz0EgY-Q4",
        "colab_type": "text"
      },
      "cell_type": "markdown",
      "source": [
        "Let's convert all of these 420,551 lines of data into a Numpy array:"
      ]
    },
    {
      "metadata": {
        "id": "zcLOSPkfY-Q8",
        "colab_type": "code",
        "colab": {}
      },
      "cell_type": "code",
      "source": [
        "import numpy as np\n",
        "\n",
        "float_data = np.zeros((len(lines), len(header) - 1))\n",
        "for i, line in enumerate(lines):\n",
        "    values = [float(x) for x in line.split(',')[1:]]\n",
        "    float_data[i, :] = values"
      ],
      "execution_count": 0,
      "outputs": []
    },
    {
      "metadata": {
        "id": "_T4ivOdJY-RE",
        "colab_type": "text"
      },
      "cell_type": "markdown",
      "source": [
        "For instance, here is the plot of temperature (in degrees Celsius) over time:"
      ]
    },
    {
      "metadata": {
        "id": "d3pPV9xHY-RG",
        "colab_type": "code",
        "colab": {
          "base_uri": "https://localhost:8080/",
          "height": 350
        },
        "outputId": "2a84d90c-3653-4155-c270-d75e4fa99225"
      },
      "cell_type": "code",
      "source": [
        "from matplotlib import pyplot as plt\n",
        "\n",
        "temp = float_data[:, 1]  # temperature (in degrees Celsius)\n",
        "plt.plot(range(len(temp)), temp)\n",
        "plt.show()"
      ],
      "execution_count": 52,
      "outputs": [
        {
          "output_type": "display_data",
          "data": {
            "image/png": "[encoded data removed]",
            "text/plain": [
              "<matplotlib.figure.Figure at 0x7f1ea10f0a20>"
            ]
          },
          "metadata": {
            "tags": []
          }
        }
      ]
    },
    {
      "metadata": {
        "id": "LTABtvIfY-RW",
        "colab_type": "text"
      },
      "cell_type": "markdown",
      "source": [
        "\n",
        "On this plot, you can clearly see the yearly periodicity of temperature.\n",
        "\n",
        "Here is a more narrow plot of the first ten days of temperature data (since the data is recorded every ten minutes, we get 144 data points \n",
        "per day):"
      ]
    },
    {
      "metadata": {
        "id": "sQK4vAbgY-Ra",
        "colab_type": "code",
        "colab": {
          "base_uri": "https://localhost:8080/",
          "height": 347
        },
        "outputId": "5d0c3f36-f1de-4da3-b601-2146dbe1c5b2"
      },
      "cell_type": "code",
      "source": [
        "plt.plot(range(1440), temp[:1440])\n",
        "plt.show()"
      ],
      "execution_count": 53,
      "outputs": [
        {
          "output_type": "display_data",
          "data": {
            "image/png": "[encoded data removed]",
            "text/plain": [
              "<matplotlib.figure.Figure at 0x7f1e98517ba8>"
            ]
          },
          "metadata": {
            "tags": []
          }
        }
      ]
    },
    {
      "metadata": {
        "id": "EuVQGmg8Y-Ro",
        "colab_type": "text"
      },
      "cell_type": "markdown",
      "source": [
        "\n",
        "On this plot, you can see daily periodicity, especially evident for the last 4 days. We can also note that this ten-days period must be \n",
        "coming from a fairly cold winter month.\n",
        "\n",
        "If we were trying to predict average temperature for the next month given a few month of past data, the problem would be easy, due to the \n",
        "reliable year-scale periodicity of the data. But looking at the data over a scale of days, the temperature looks a lot more chaotic. So is \n",
        "this timeseries predictable at a daily scale? Let's find out."
      ]
    },
    {
      "metadata": {
        "id": "Pfo-1j-PY-Rq",
        "colab_type": "text"
      },
      "cell_type": "markdown",
      "source": [
        "## Preparing the data\n",
        "\n",
        "\n",
        "The exact formulation of our problem will be the following: given data going as far back as `lookback` timesteps (a timestep is 10 minutes) \n",
        "and sampled every `steps` timesteps, can we predict the temperature in `delay` timesteps?\n",
        "\n",
        "We will use the following parameter values:\n",
        "\n",
        "* `lookback = 720`, i.e. our observations will go back 5 days.\n",
        "* `steps = 6`, i.e. our observations will be sampled at one data point per hour.\n",
        "* `delay = 144`, i.e. our targets will be 24 hours in the future.\n",
        "\n",
        "To get started, we need to do two things:\n",
        "\n",
        "* Preprocess the data to a format a neural network can ingest. This is easy: the data is already numerical, so we don't need to do any \n",
        "vectorization. However each timeseries in the data is on a different scale (e.g. temperature is typically between -20 and +30, but \n",
        "pressure, measured in mbar, is around 1000). So we will normalize each timeseries independently so that they all take small values on a \n",
        "similar scale.\n",
        "* Write a Python generator that takes our current array of float data and yields batches of data from the recent past, alongside with a \n",
        "target temperature in the future. Since the samples in our dataset are highly redundant (e.g. sample `N` and sample `N + 1` will have most \n",
        "of their timesteps in common), it would be very wasteful to explicitly allocate every sample. Instead, we will generate the samples on the \n",
        "fly using the original data.\n",
        "\n",
        "We preprocess the data by subtracting the mean of each timeseries and dividing by the standard deviation. We plan on using the first \n",
        "200,000 timesteps as training data, so we compute the mean and standard deviation only on this fraction of the data:"
      ]
    },
    {
      "metadata": {
        "id": "4S4iRLrkY-Ru",
        "colab_type": "code",
        "colab": {}
      },
      "cell_type": "code",
      "source": [
        "mean = float_data[:200000].mean(axis=0)\n",
        "float_data -= mean\n",
        "std = float_data[:200000].std(axis=0)\n",
        "float_data /= std"
      ],
      "execution_count": 0,
      "outputs": []
    },
    {
      "metadata": {
        "id": "3DF0BaQ8Y-R6",
        "colab_type": "text"
      },
      "cell_type": "markdown",
      "source": [
        "\n",
        "Now here is the data generator that we will use. It yields a tuple `(samples, targets)` where `samples` is one batch of input data and \n",
        "`targets` is the corresponding array of target temperatures. It takes the following arguments:\n",
        "\n",
        "* `data`: The original array of floating point data, which we just normalized in the code snippet above.\n",
        "* `lookback`: How many timesteps back should our input data go.\n",
        "* `delay`: How many timesteps in the future should our target be.\n",
        "* `min_index` and `max_index`: Indices in the `data` array that delimit which timesteps to draw from. This is useful for keeping a segment \n",
        "of the data for validation and another one for testing.\n",
        "* `shuffle`: Whether to shuffle our samples or draw them in chronological order.\n",
        "* `batch_size`: The number of samples per batch.\n",
        "* `step`: The period, in timesteps, at which we sample data. We will set it 6 in order to draw one data point every hour."
      ]
    },
    {
      "metadata": {
        "id": "tqETi7FRY-SA",
        "colab_type": "code",
        "colab": {}
      },
      "cell_type": "code",
      "source": [
        "def generator(data, lookback, delay, min_index, max_index,\n",
        "              shuffle=False, batch_size=128, step=6):\n",
        "    if max_index is None:\n",
        "        max_index = len(data) - delay - 1\n",
        "    i = min_index + lookback\n",
        "    while 1:\n",
        "        if shuffle:\n",
        "            rows = np.random.randint(\n",
        "                min_index + lookback, max_index, size=batch_size)\n",
        "        else:\n",
        "            if i + batch_size >= max_index:\n",
        "                i = min_index + lookback\n",
        "            rows = np.arange(i, min(i + batch_size, max_index))\n",
        "            i += len(rows)\n",
        "\n",
        "        samples = np.zeros((len(rows),\n",
        "                           lookback // step,\n",
        "                           data.shape[-1]))\n",
        "        targets = np.zeros((len(rows),))\n",
        "        for j, row in enumerate(rows):\n",
        "            indices = range(rows[j] - lookback, rows[j], step)\n",
        "            samples[j] = data[indices]\n",
        "            targets[j] = data[rows[j] + delay][1]\n",
        "        yield samples, targets"
      ],
      "execution_count": 0,
      "outputs": []
    },
    {
      "metadata": {
        "id": "7JAdbgV9Y-SI",
        "colab_type": "text"
      },
      "cell_type": "markdown",
      "source": [
        "\n",
        "Now let's use our abstract generator function to instantiate three generators, one for training, one for validation and one for testing. \n",
        "Each will look at different temporal segments of the original data: the training generator looks at the first 200,000 timesteps, the \n",
        "validation generator looks at the following 100,000, and the test generator looks at the remainder."
      ]
    },
    {
      "metadata": {
        "id": "06R8ZfPkY-SK",
        "colab_type": "code",
        "colab": {}
      },
      "cell_type": "code",
      "source": [
        "lookback = 1440\n",
        "step = 6\n",
        "delay = 144\n",
        "batch_size = 128\n",
        "\n",
        "train_gen = generator(float_data,\n",
        "                      lookback=lookback,\n",
        "                      delay=delay,\n",
        "                      min_index=0,\n",
        "                      max_index=200000,\n",
        "                      shuffle=True,\n",
        "                      step=step, \n",
        "                      batch_size=batch_size)\n",
        "val_gen = generator(float_data,\n",
        "                    lookback=lookback,\n",
        "                    delay=delay,\n",
        "                    min_index=200001,\n",
        "                    max_index=300000,\n",
        "                    step=step,\n",
        "                    batch_size=batch_size)\n",
        "test_gen = generator(float_data,\n",
        "                     lookback=lookback,\n",
        "                     delay=delay,\n",
        "                     min_index=300001,\n",
        "                     max_index=None,\n",
        "                     step=step,\n",
        "                     batch_size=batch_size)\n",
        "\n",
        "# This is how many steps to draw from `val_gen`\n",
        "# in order to see the whole validation set:\n",
        "val_steps = (300000 - 200001 - lookback) // batch_size\n",
        "\n",
        "# This is how many steps to draw from `test_gen`\n",
        "# in order to see the whole test set:\n",
        "test_steps = (len(float_data) - 300001 - lookback) // batch_size"
      ],
      "execution_count": 0,
      "outputs": []
    },
    {
      "metadata": {
        "id": "BdOON1iuY-SW",
        "colab_type": "text"
      },
      "cell_type": "markdown",
      "source": [
        "## A common sense, non-machine learning baseline\n",
        "\n",
        "\n",
        "Before we start leveraging black-box deep learning models to solve our temperature prediction problem, let's try out a simple common-sense \n",
        "approach. It will serve as a sanity check, and it will establish a baseline that we will have to beat in order to demonstrate the \n",
        "usefulness of more advanced machine learning models. Such common-sense baselines can be very useful when approaching a new problem for \n",
        "which there is no known solution (yet). A classic example is that of unbalanced classification tasks, where some classes can be much more \n",
        "common than others. If your dataset contains 90% of instances of class A and 10% of instances of class B, then a common sense approach to \n",
        "the classification task would be to always predict \"A\" when presented with a new sample. Such a classifier would be 90% accurate overall, \n",
        "and any learning-based approach should therefore beat this 90% score in order to demonstrate usefulness. Sometimes such elementary \n",
        "baseline can prove surprisingly hard to beat.\n",
        "\n",
        "In our case, the temperature timeseries can safely be assumed to be continuous (the temperatures tomorrow are likely to be close to the \n",
        "temperatures today) as well as periodical with a daily period. Thus a common sense approach would be to always predict that the temperature \n",
        "24 hours from now will be equal to the temperature right now. Let's evaluate this approach, using the Mean Absolute Error metric (MAE). \n",
        "Mean Absolute Error is simply equal to:"
      ]
    },
    {
      "metadata": {
        "id": "4xINtGqDY-Sa",
        "colab_type": "code",
        "colab": {
          "base_uri": "https://localhost:8080/",
          "height": 171
        },
        "outputId": "423fcd78-b547-400d-cbc7-5e2b85292857"
      },
      "cell_type": "code",
      "source": [
        "np.mean(np.abs(preds - targets))"
      ],
      "execution_count": 57,
      "outputs": [
        {
          "output_type": "error",
          "ename": "NameError",
          "evalue": "ignored",
          "traceback": [
            "\u001b[0;31m---------------------------------------------------------------------------\u001b[0m",
            "\u001b[0;31mNameError\u001b[0m                                 Traceback (most recent call last)",
            "\u001b[0;32m<ipython-input-57-2c3bc3683db5>\u001b[0m in \u001b[0;36m<module>\u001b[0;34m()\u001b[0m\n\u001b[0;32m----> 1\u001b[0;31m \u001b[0mnp\u001b[0m\u001b[0;34m.\u001b[0m\u001b[0mmean\u001b[0m\u001b[0;34m(\u001b[0m\u001b[0mnp\u001b[0m\u001b[0;34m.\u001b[0m\u001b[0mabs\u001b[0m\u001b[0;34m(\u001b[0m\u001b[0mpreds\u001b[0m \u001b[0;34m-\u001b[0m \u001b[0mtargets\u001b[0m\u001b[0;34m)\u001b[0m\u001b[0;34m)\u001b[0m\u001b[0;34m\u001b[0m\u001b[0m\n\u001b[0m",
            "\u001b[0;31mNameError\u001b[0m: name 'preds' is not defined"
          ]
        }
      ]
    },
    {
      "metadata": {
        "id": "ssahVXcGY-So",
        "colab_type": "text"
      },
      "cell_type": "markdown",
      "source": [
        "Here's our evaluation loop:"
      ]
    },
    {
      "metadata": {
        "id": "GA0Gco3hY-Sq",
        "colab_type": "code",
        "colab": {
          "base_uri": "https://localhost:8080/",
          "height": 35
        },
        "outputId": "9ff49553-cbdd-441c-eeba-86a0b1851f1c"
      },
      "cell_type": "code",
      "source": [
        "def evaluate_naive_method():\n",
        "    batch_maes = []\n",
        "    for step in range(val_steps):\n",
        "        samples, targets = next(val_gen)\n",
        "        preds = samples[:, -1, 1]\n",
        "        mae = np.mean(np.abs(preds - targets))\n",
        "        batch_maes.append(mae)\n",
        "    print(np.mean(batch_maes))\n",
        "    \n",
        "evaluate_naive_method()"
      ],
      "execution_count": 58,
      "outputs": [
        {
          "output_type": "stream",
          "text": [
            "0.2897359729905486\n"
          ],
          "name": "stdout"
        }
      ]
    },
    {
      "metadata": {
        "id": "CNUrjAioY-S2",
        "colab_type": "text"
      },
      "cell_type": "markdown",
      "source": [
        "It yields a MAE of 0.29. Since our temperature data has been normalized to be centered on 0 and have a standard deviation of one, this \n",
        "number is not immediately interpretable. It translates to an average absolute error of `0.29 * temperature_std` degrees Celsius, i.e. \n",
        "2.57˚C. That's a fairly large average absolute error -- now the game is to leverage our knowledge of deep learning to do better. "
      ]
    },
    {
      "metadata": {
        "id": "klM3ELRYY-S4",
        "colab_type": "text"
      },
      "cell_type": "markdown",
      "source": [
        "## A basic machine learning approach\n",
        "\n",
        "In the same way that it is useful to establish a common sense baseline before trying machine learning approaches, it is useful to try \n",
        "simple and cheap machine learning models (such as small densely-connected networks) before looking into complicated and computationally \n",
        "expensive models such as RNNs. This is the best way to make sure that any further complexity we throw at the problem later on is legitimate \n",
        "and delivers real benefits.\n",
        "\n",
        "Here is a simply fully-connected model in which we start by flattening the data, then run it through two `Dense` layers. Note the lack of \n",
        "activation function on the last `Dense` layer, which is typical for a regression problem. We use MAE as the loss. Since we are evaluating \n",
        "on the exact same data and with the exact same metric as with our common sense approach, the results will be directly comparable."
      ]
    },
    {
      "metadata": {
        "id": "JD_5kX_RY-S6",
        "colab_type": "code",
        "colab": {
          "base_uri": "https://localhost:8080/",
          "height": 752
        },
        "outputId": "02c748e5-e2ce-4cba-ed25-bf76b291e028"
      },
      "cell_type": "code",
      "source": [
        "from keras.models import Sequential\n",
        "from keras import layers\n",
        "from keras.optimizers import RMSprop\n",
        "\n",
        "model = Sequential()\n",
        "model.add(layers.Flatten(input_shape=(lookback // step, float_data.shape[-1])))\n",
        "model.add(layers.Dense(32, activation='relu'))\n",
        "model.add(layers.Dense(1))\n",
        "\n",
        "model.compile(optimizer=RMSprop(), loss='mae')\n",
        "history = model.fit_generator(train_gen,\n",
        "                              steps_per_epoch=500,\n",
        "                              epochs=20,\n",
        "                              validation_data=val_gen,\n",
        "                              validation_steps=val_steps)"
      ],
      "execution_count": 59,
      "outputs": [
        {
          "output_type": "stream",
          "text": [
            "Epoch 1/20\n",
            "500/500 [==============================] - 15s 30ms/step - loss: 1.3857 - val_loss: 1.0723\n",
            "Epoch 2/20\n",
            "500/500 [==============================] - 15s 30ms/step - loss: 2.1212 - val_loss: 4.5734\n",
            "Epoch 3/20\n",
            "500/500 [==============================] - 15s 30ms/step - loss: 4.4424 - val_loss: 5.4448\n",
            "Epoch 4/20\n",
            "241/500 [=============>................] - ETA: 3s - loss: 6.8221"
          ],
          "name": "stdout"
        },
        {
          "output_type": "stream",
          "text": [
            "500/500 [==============================] - 15s 30ms/step - loss: 7.8249 - val_loss: 9.9885\n",
            "Epoch 5/20\n",
            "500/500 [==============================] - 15s 30ms/step - loss: 11.0726 - val_loss: 15.3456\n",
            "Epoch 6/20\n",
            "500/500 [==============================] - 15s 30ms/step - loss: 14.9833 - val_loss: 14.4569\n",
            "Epoch 7/20\n",
            "310/500 [=================>............] - ETA: 3s - loss: 17.9501"
          ],
          "name": "stdout"
        },
        {
          "output_type": "stream",
          "text": [
            "500/500 [==============================] - 15s 31ms/step - loss: 18.7230 - val_loss: 11.2231\n",
            "Epoch 8/20\n",
            "500/500 [==============================] - 15s 30ms/step - loss: 22.8496 - val_loss: 25.6066\n",
            "Epoch 9/20\n",
            "500/500 [==============================] - 15s 30ms/step - loss: 26.2625 - val_loss: 18.3723\n",
            "Epoch 10/20\n",
            "323/500 [==================>...........] - ETA: 2s - loss: 29.3228"
          ],
          "name": "stdout"
        },
        {
          "output_type": "stream",
          "text": [
            "500/500 [==============================] - 15s 30ms/step - loss: 29.9928 - val_loss: 20.6135\n",
            "Epoch 11/20\n",
            "500/500 [==============================] - 15s 30ms/step - loss: 33.9902 - val_loss: 34.7530\n",
            "Epoch 12/20\n",
            "500/500 [==============================] - 15s 30ms/step - loss: 37.8403 - val_loss: 39.8371\n",
            "Epoch 13/20\n",
            "307/500 [=================>............] - ETA: 3s - loss: 40.8742"
          ],
          "name": "stdout"
        },
        {
          "output_type": "stream",
          "text": [
            "500/500 [==============================] - 16s 32ms/step - loss: 41.7206 - val_loss: 22.6253\n",
            "Epoch 14/20\n",
            "500/500 [==============================] - 15s 30ms/step - loss: 45.5568 - val_loss: 38.6192\n",
            "Epoch 15/20\n",
            "500/500 [==============================] - 15s 30ms/step - loss: 49.4856 - val_loss: 47.8650\n",
            "Epoch 16/20\n",
            "325/500 [==================>...........] - ETA: 2s - loss: 52.4379"
          ],
          "name": "stdout"
        },
        {
          "output_type": "stream",
          "text": [
            "500/500 [==============================] - 15s 30ms/step - loss: 53.3662 - val_loss: 53.0906\n",
            "Epoch 17/20\n",
            "500/500 [==============================] - 15s 31ms/step - loss: 57.0102 - val_loss: 59.2813\n",
            "Epoch 18/20\n",
            "500/500 [==============================] - 15s 30ms/step - loss: 60.4945 - val_loss: 60.7854\n",
            "Epoch 19/20\n",
            "325/500 [==================>...........] - ETA: 2s - loss: 63.8938"
          ],
          "name": "stdout"
        },
        {
          "output_type": "stream",
          "text": [
            "500/500 [==============================] - 15s 31ms/step - loss: 64.4316 - val_loss: 107.1724\n",
            "Epoch 20/20\n",
            "500/500 [==============================] - 15s 31ms/step - loss: 68.3389 - val_loss: 89.6737\n"
          ],
          "name": "stdout"
        }
      ]
    },
    {
      "metadata": {
        "id": "1Kvqp9OaY-Tq",
        "colab_type": "text"
      },
      "cell_type": "markdown",
      "source": [
        "Let's display the loss curves for validation and training:"
      ]
    },
    {
      "metadata": {
        "id": "IFQ5xNpQY-T0",
        "colab_type": "code",
        "colab": {
          "base_uri": "https://localhost:8080/",
          "height": 362
        },
        "outputId": "5639e60f-c4e6-4862-9919-25e951dbac62"
      },
      "cell_type": "code",
      "source": [
        "import matplotlib.pyplot as plt\n",
        "\n",
        "loss = history.history['loss']\n",
        "val_loss = history.history['val_loss']\n",
        "\n",
        "epochs = range(len(loss))\n",
        "\n",
        "plt.figure()\n",
        "\n",
        "plt.plot(epochs, loss, 'bo', label='Training loss')\n",
        "plt.plot(epochs, val_loss, 'b', label='Validation loss')\n",
        "plt.title('Training and validation loss')\n",
        "plt.legend()\n",
        "\n",
        "plt.show()"
      ],
      "execution_count": 32,
      "outputs": [
        {
          "output_type": "display_data",
          "data": {
            "image/png": "[encoded data removed]",
            "text/plain": [
              "<matplotlib.figure.Figure at 0x7f1e9d0ae860>"
            ]
          },
          "metadata": {
            "tags": []
          }
        }
      ]
    },
    {
      "metadata": {
        "id": "4wGcS8jMY-UC",
        "colab_type": "text"
      },
      "cell_type": "markdown",
      "source": [
        "\n",
        "Some of our validation losses get close to the no-learning baseline, but not very reliably. This goes to show the merit of having had this baseline in the first place: it turns out not to be so easy to outperform. Our \n",
        "common sense contains already a lot of valuable information that a machine learning model does not have access to.\n",
        "\n",
        "You may ask, if there exists a simple, well-performing model to go from the data to the targets (our common sense baseline), why doesn't \n",
        "the model we are training find it and improve on it? Simply put: because this simple solution is not what our training setup is looking \n",
        "for. The space of models in which we are searching for a solution, i.e. our hypothesis space, is the space of all possible 2-layer networks \n",
        "with the configuration that we defined. These networks are already fairly complicated. When looking for a solution with a space of \n",
        "complicated models, the simple well-performing baseline might be unlearnable, even if it's technically part of the hypothesis space. That \n",
        "is a pretty significant limitation of machine learning in general: unless the learning algorithm is hard-coded to look for a specific kind \n",
        "of simple model, parameter learning can sometimes fail to find a simple solution to a simple problem."
      ]
    },
    {
      "metadata": {
        "id": "mpnv0uCKY-UI",
        "colab_type": "text"
      },
      "cell_type": "markdown",
      "source": [
        "## A first recurrent baseline\n",
        "\n",
        "\n",
        "Our first fully-connected approach didn't do so well, but that doesn't mean machine learning is not applicable to our problem. The approach \n",
        "above consisted in first flattening the timeseries, which removed the notion of time from the input data. Let us instead look at our data \n",
        "as what it is: a sequence, where causality and order matter. We will try a recurrent sequence processing model -- it should be the perfect \n",
        "fit for such sequence data, precisely because it does exploit the temporal ordering of data points, unlike our first approach.\n",
        "\n",
        "Instead of the `LSTM` layer introduced in the previous section, we will use the `GRU` layer, developed by Cho et al. in 2014. `GRU` layers \n",
        "(which stands for \"gated recurrent unit\") work by leveraging the same principle as LSTM, but they are somewhat streamlined and thus cheaper \n",
        "to run, albeit they may not have quite as much representational power as LSTM. This trade-off between computational expensiveness and \n",
        "representational power is seen everywhere in machine learning."
      ]
    },
    {
      "metadata": {
        "id": "b8Ev5O7gY-UK",
        "colab_type": "code",
        "colab": {
          "base_uri": "https://localhost:8080/",
          "height": 216
        },
        "outputId": "44593ae8-02d2-42f8-a134-df84b5dd7934"
      },
      "cell_type": "code",
      "source": [
        "from keras.models import Sequential\n",
        "from keras import layers\n",
        "from keras.optimizers import RMSprop\n",
        "\n",
        "model = Sequential()\n",
        "model.add(layers.GRU(32, input_shape=(None, float_data.shape[-1])))\n",
        "model.add(layers.Dense(1))\n",
        "\n",
        "model.compile(optimizer=RMSprop(), loss='mae')\n",
        "history = model.fit_generator(train_gen,\n",
        "                              steps_per_epoch=500,\n",
        "                              epochs=20,\n",
        "                              validation_data=val_gen,\n",
        "                              validation_steps=val_steps)"
      ],
      "execution_count": 0,
      "outputs": [
        {
          "output_type": "stream",
          "text": [
            "Epoch 1/20\n",
            "500/500 [==============================] - 130s 259ms/step - loss: 0.3068 - val_loss: 0.2718\n",
            "Epoch 2/20\n",
            "330/500 [==================>...........] - ETA: 32s - loss: 0.2857"
          ],
          "name": "stdout"
        },
        {
          "output_type": "stream",
          "text": [
            "500/500 [==============================] - 129s 257ms/step - loss: 0.2856 - val_loss: 0.2719\n",
            "Epoch 3/20\n",
            "500/500 [==============================] - 128s 255ms/step - loss: 0.2787 - val_loss: 0.2654\n",
            "Epoch 4/20\n",
            " 10/500 [..............................] - ETA: 1:32 - loss: 0.2827"
          ],
          "name": "stdout"
        },
        {
          "output_type": "stream",
          "text": [
            "500/500 [==============================] - 127s 255ms/step - loss: 0.2744 - val_loss: 0.2660\n",
            "Epoch 5/20\n",
            "389/500 [======================>.......] - ETA: 21s - loss: 0.2686"
          ],
          "name": "stdout"
        },
        {
          "output_type": "stream",
          "text": [
            "499/500 [============================>.] - ETA: 0s - loss: 0.2691"
          ],
          "name": "stdout"
        }
      ]
    },
    {
      "metadata": {
        "id": "cmpHcceGY-Ue",
        "colab_type": "text"
      },
      "cell_type": "markdown",
      "source": [
        "Let look at our results:"
      ]
    },
    {
      "metadata": {
        "id": "5_8tciOwY-Ui",
        "colab_type": "code",
        "colab": {},
        "outputId": "649ecec7-33b2-46a0-9974-4d74becaab0a"
      },
      "cell_type": "code",
      "source": [
        "loss = history.history['loss']\n",
        "val_loss = history.history['val_loss']\n",
        "\n",
        "epochs = range(len(loss))\n",
        "\n",
        "plt.figure()\n",
        "\n",
        "plt.plot(epochs, loss, 'bo', label='Training loss')\n",
        "plt.plot(epochs, val_loss, 'b', label='Validation loss')\n",
        "plt.title('Training and validation loss')\n",
        "plt.legend()\n",
        "\n",
        "plt.show()"
      ],
      "execution_count": 0,
      "outputs": [
        {
          "output_type": "display_data",
          "data": {
            "text/plain": [
              "<matplotlib.figure.Figure at 0x7f3317e755f8>"
            ]
          },
          "metadata": {
            "tags": []
          }
        },
        {
          "output_type": "display_data",
          "data": {
            "image/png": "[encoded data removed]",
            "text/plain": [
              "<matplotlib.figure.Figure at 0x7f3316a8b358>"
            ]
          },
          "metadata": {
            "tags": []
          }
        }
      ]
    },
    {
      "metadata": {
        "id": "UdT2h6cEY-U4",
        "colab_type": "text"
      },
      "cell_type": "markdown",
      "source": [
        "\n",
        "Much better! We are able to significantly beat the common sense baseline, such demonstrating the value of machine learning here, as well as \n",
        "the superiority of recurrent networks compared to sequence-flattening dense networks on this type of task.\n",
        "\n",
        "Our new validation MAE of ~0.265 (before we start significantly overfitting) translates to a mean absolute error of 2.35˚C after \n",
        "de-normalization. That's a solid gain on our initial error of 2.57˚C, but we probably still have a bit of margin for improvement."
      ]
    },
    {
      "metadata": {
        "id": "hE2UefPgY-U8",
        "colab_type": "text"
      },
      "cell_type": "markdown",
      "source": [
        "## Using recurrent dropout to fight overfitting\n",
        "\n",
        "\n",
        "It is evident from our training and validation curves that our model is overfitting: the training and validation losses start diverging \n",
        "considerably after a few epochs. You are already familiar with a classic technique for fighting this phenomenon: dropout, consisting in \n",
        "randomly zeroing-out input units of a layer in order to break happenstance correlations in the training data that the layer is exposed to. \n",
        "How to correctly apply dropout in recurrent networks, however, is not a trivial question. It has long been known that applying dropout \n",
        "before a recurrent layer hinders learning rather than helping with regularization. In 2015, Yarin Gal, as part of his Ph.D. thesis on \n",
        "Bayesian deep learning, determined the proper way to use dropout with a recurrent network: the same dropout mask (the same pattern of \n",
        "dropped units) should be applied at every timestep, instead of a dropout mask that would vary randomly from timestep to timestep. What's \n",
        "more: in order to regularize the representations formed by the recurrent gates of layers such as GRU and LSTM, a temporally constant \n",
        "dropout mask should be applied to the inner recurrent activations of the layer (a \"recurrent\" dropout mask). Using the same dropout mask at \n",
        "every timestep allows the network to properly propagate its learning error through time; a temporally random dropout mask would instead \n",
        "disrupt this error signal and be harmful to the learning process.\n",
        "\n",
        "Yarin Gal did his research using Keras and helped build this mechanism directly into Keras recurrent layers. Every recurrent layer in Keras \n",
        "has two dropout-related arguments: `dropout`, a float specifying the dropout rate for input units of the layer, and `recurrent_dropout`, \n",
        "specifying the dropout rate of the recurrent units. Let's add dropout and recurrent dropout to our GRU layer and see how it impacts \n",
        "overfitting. Because networks being regularized with dropout always take longer to fully converge, we train our network for twice as many \n",
        "epochs."
      ]
    },
    {
      "metadata": {
        "id": "sd7iUi9OY-U-",
        "colab_type": "code",
        "colab": {},
        "outputId": "49985f92-70b5-4436-8e9e-0fc27e1c0e2b"
      },
      "cell_type": "code",
      "source": [
        "from keras.models import Sequential\n",
        "from keras import layers\n",
        "from keras.optimizers import RMSprop\n",
        "\n",
        "model = Sequential()\n",
        "model.add(layers.GRU(32,\n",
        "                     dropout=0.2,\n",
        "                     recurrent_dropout=0.2,\n",
        "                     input_shape=(None, float_data.shape[-1])))\n",
        "model.add(layers.Dense(1))\n",
        "\n",
        "model.compile(optimizer=RMSprop(), loss='mae')\n",
        "history = model.fit_generator(train_gen,\n",
        "                              steps_per_epoch=500,\n",
        "                              epochs=40,\n",
        "                              validation_data=val_gen,\n",
        "                              validation_steps=val_steps)"
      ],
      "execution_count": 0,
      "outputs": [
        {
          "output_type": "stream",
          "text": [
            "Epoch 1/40\n",
            "500/500 [==============================] - 171s - loss: 0.3526 - val_loss: 0.2740\n",
            "Epoch 2/40\n",
            "500/500 [==============================] - 170s - loss: 0.3138 - val_loss: 0.2742\n",
            "Epoch 3/40\n",
            "500/500 [==============================] - 170s - loss: 0.3065 - val_loss: 0.2692\n",
            "Epoch 4/40\n",
            "500/500 [==============================] - 170s - loss: 0.3033 - val_loss: 0.2694\n",
            "Epoch 5/40\n",
            "500/500 [==============================] - 170s - loss: 0.3006 - val_loss: 0.2695\n",
            "Epoch 6/40\n",
            "500/500 [==============================] - 170s - loss: 0.2990 - val_loss: 0.2709\n",
            "Epoch 7/40\n",
            "500/500 [==============================] - 170s - loss: 0.2955 - val_loss: 0.2667\n",
            "Epoch 8/40\n",
            "500/500 [==============================] - 170s - loss: 0.2942 - val_loss: 0.2671\n",
            "Epoch 9/40\n",
            "500/500 [==============================] - 171s - loss: 0.2940 - val_loss: 0.2649\n",
            "Epoch 10/40\n",
            "500/500 [==============================] - 170s - loss: 0.2923 - val_loss: 0.2673\n",
            "Epoch 11/40\n",
            "500/500 [==============================] - 170s - loss: 0.2894 - val_loss: 0.2695\n",
            "Epoch 12/40\n",
            "500/500 [==============================] - 170s - loss: 0.2899 - val_loss: 0.2648\n",
            "Epoch 13/40\n",
            "500/500 [==============================] - 170s - loss: 0.2879 - val_loss: 0.2634\n",
            "Epoch 14/40\n",
            "500/500 [==============================] - 170s - loss: 0.2884 - val_loss: 0.2666\n",
            "Epoch 15/40\n",
            "500/500 [==============================] - 170s - loss: 0.2863 - val_loss: 0.2695\n",
            "Epoch 16/40\n",
            "500/500 [==============================] - 170s - loss: 0.2852 - val_loss: 0.2705\n",
            "Epoch 17/40\n",
            "500/500 [==============================] - 170s - loss: 0.2843 - val_loss: 0.2739\n",
            "Epoch 18/40\n",
            "500/500 [==============================] - 170s - loss: 0.2844 - val_loss: 0.2646\n",
            "Epoch 19/40\n",
            "500/500 [==============================] - 170s - loss: 0.2827 - val_loss: 0.2661\n",
            "Epoch 20/40\n",
            "500/500 [==============================] - 170s - loss: 0.2813 - val_loss: 0.2637\n",
            "Epoch 21/40\n",
            "500/500 [==============================] - 170s - loss: 0.2805 - val_loss: 0.2663\n",
            "Epoch 22/40\n",
            "500/500 [==============================] - 170s - loss: 0.2786 - val_loss: 0.2662\n",
            "Epoch 23/40\n",
            "500/500 [==============================] - 170s - loss: 0.2795 - val_loss: 0.2637\n",
            "Epoch 24/40\n",
            "500/500 [==============================] - 170s - loss: 0.2801 - val_loss: 0.2649\n",
            "Epoch 25/40\n",
            "500/500 [==============================] - 170s - loss: 0.2774 - val_loss: 0.2723\n",
            "Epoch 26/40\n",
            "500/500 [==============================] - 170s - loss: 0.2788 - val_loss: 0.2682\n",
            "Epoch 27/40\n",
            "500/500 [==============================] - 171s - loss: 0.2780 - val_loss: 0.2655\n",
            "Epoch 28/40\n",
            "500/500 [==============================] - 170s - loss: 0.2782 - val_loss: 0.2645\n",
            "Epoch 29/40\n",
            "500/500 [==============================] - 170s - loss: 0.2770 - val_loss: 0.2647\n",
            "Epoch 30/40\n",
            "500/500 [==============================] - 170s - loss: 0.2756 - val_loss: 0.2746\n",
            "Epoch 31/40\n",
            "500/500 [==============================] - 171s - loss: 0.2763 - val_loss: 0.2641\n",
            "Epoch 32/40\n",
            "500/500 [==============================] - 170s - loss: 0.2752 - val_loss: 0.2733\n",
            "Epoch 33/40\n",
            "500/500 [==============================] - 170s - loss: 0.2742 - val_loss: 0.2619\n",
            "Epoch 34/40\n",
            "500/500 [==============================] - 170s - loss: 0.2753 - val_loss: 0.2711\n",
            "Epoch 35/40\n",
            "500/500 [==============================] - 170s - loss: 0.2727 - val_loss: 0.2658\n",
            "Epoch 36/40\n",
            "500/500 [==============================] - 170s - loss: 0.2724 - val_loss: 0.2664\n",
            "Epoch 37/40\n",
            "500/500 [==============================] - 170s - loss: 0.2725 - val_loss: 0.2661\n",
            "Epoch 38/40\n",
            "500/500 [==============================] - 171s - loss: 0.2725 - val_loss: 0.2633\n",
            "Epoch 39/40\n",
            "500/500 [==============================] - 170s - loss: 0.2726 - val_loss: 0.2695\n",
            "Epoch 40/40\n",
            "500/500 [==============================] - 170s - loss: 0.2727 - val_loss: 0.2719\n"
          ],
          "name": "stdout"
        }
      ]
    },
    {
      "metadata": {
        "id": "uuHM_czKY-VS",
        "colab_type": "code",
        "colab": {},
        "outputId": "2135374e-eeb8-45e4-bec9-1882fa14c41f"
      },
      "cell_type": "code",
      "source": [
        "loss = history.history['loss']\n",
        "val_loss = history.history['val_loss']\n",
        "\n",
        "epochs = range(len(loss))\n",
        "\n",
        "plt.figure()\n",
        "\n",
        "plt.plot(epochs, loss, 'bo', label='Training loss')\n",
        "plt.plot(epochs, val_loss, 'b', label='Validation loss')\n",
        "plt.title('Training and validation loss')\n",
        "plt.legend()\n",
        "\n",
        "plt.show()"
      ],
      "execution_count": 0,
      "outputs": [
        {
          "output_type": "display_data",
          "data": {
            "text/plain": [
              "<matplotlib.figure.Figure at 0x7f3317e879e8>"
            ]
          },
          "metadata": {
            "tags": []
          }
        },
        {
          "output_type": "display_data",
          "data": {
            "image/png": "[encoded data removed]",
            "text/plain": [
              "<matplotlib.figure.Figure at 0x7f3315076e48>"
            ]
          },
          "metadata": {
            "tags": []
          }
        }
      ]
    },
    {
      "metadata": {
        "id": "icxIV0T0Y-Vc",
        "colab_type": "text"
      },
      "cell_type": "markdown",
      "source": [
        "Great success; we are no longer overfitting during the first 30 epochs. However, while we have more stable evaluation scores, our best \n",
        "scores are not much lower than they were previously."
      ]
    },
    {
      "metadata": {
        "id": "nbxWrHKEY-Ve",
        "colab_type": "text"
      },
      "cell_type": "markdown",
      "source": [
        "## Stacking recurrent layers\n",
        "\n",
        "Since we are no longer overfitting yet we seem to have hit a performance bottleneck, we should start considering increasing the capacity of \n",
        "our network. If you remember our description of the \"universal machine learning workflow\": it is a generally a good idea to increase the \n",
        "capacity of your network until overfitting becomes your primary obstacle (assuming that you are already taking basic steps to mitigate \n",
        "overfitting, such as using dropout). As long as you are not overfitting too badly, then you are likely under-capacity.\n",
        "\n",
        "Increasing network capacity is typically done by increasing the number of units in the layers, or adding more layers. Recurrent layer \n",
        "stacking is a classic way to build more powerful recurrent networks: for instance, what currently powers the Google translate algorithm is \n",
        "a stack of seven large LSTM layers -- that's huge.\n",
        "\n",
        "To stack recurrent layers on top of each other in Keras, all intermediate layers should return their full sequence of outputs (a 3D tensor) \n",
        "rather than their output at the last timestep. This is done by specifying `return_sequences=True`: "
      ]
    },
    {
      "metadata": {
        "id": "BzvnKA0lY-Ve",
        "colab_type": "code",
        "colab": {},
        "outputId": "da5e1856-aaf2-4cd6-bd1d-f4be992b29e5"
      },
      "cell_type": "code",
      "source": [
        "from keras.models import Sequential\n",
        "from keras import layers\n",
        "from keras.optimizers import RMSprop\n",
        "\n",
        "model = Sequential()\n",
        "model.add(layers.GRU(32,\n",
        "                     dropout=0.1,\n",
        "                     recurrent_dropout=0.5,\n",
        "                     return_sequences=True,\n",
        "                     input_shape=(None, float_data.shape[-1])))\n",
        "model.add(layers.GRU(64, activation='relu',\n",
        "                     dropout=0.1, \n",
        "                     recurrent_dropout=0.5))\n",
        "model.add(layers.Dense(1))\n",
        "\n",
        "model.compile(optimizer=RMSprop(), loss='mae')\n",
        "history = model.fit_generator(train_gen,\n",
        "                              steps_per_epoch=500,\n",
        "                              epochs=40,\n",
        "                              validation_data=val_gen,\n",
        "                              validation_steps=val_steps)"
      ],
      "execution_count": 0,
      "outputs": [
        {
          "output_type": "stream",
          "text": [
            "Epoch 1/40\n",
            "500/500 [==============================] - 346s - loss: 0.3341 - val_loss: 0.2780\n",
            "Epoch 2/40\n",
            "500/500 [==============================] - 344s - loss: 0.3125 - val_loss: 0.2754\n",
            "Epoch 3/40\n",
            "500/500 [==============================] - 344s - loss: 0.3045 - val_loss: 0.2696\n",
            "Epoch 4/40\n",
            "500/500 [==============================] - 344s - loss: 0.3018 - val_loss: 0.2747\n",
            "Epoch 5/40\n",
            "500/500 [==============================] - 344s - loss: 0.2957 - val_loss: 0.2690\n",
            "Epoch 6/40\n",
            "500/500 [==============================] - 344s - loss: 0.2923 - val_loss: 0.2692\n",
            "Epoch 7/40\n",
            "500/500 [==============================] - 344s - loss: 0.2907 - val_loss: 0.2673\n",
            "Epoch 8/40\n",
            "500/500 [==============================] - 343s - loss: 0.2879 - val_loss: 0.2690\n",
            "Epoch 9/40\n",
            "500/500 [==============================] - 343s - loss: 0.2866 - val_loss: 0.2743\n",
            "Epoch 10/40\n",
            "500/500 [==============================] - 344s - loss: 0.2833 - val_loss: 0.2669\n",
            "Epoch 11/40\n",
            "500/500 [==============================] - 344s - loss: 0.2825 - val_loss: 0.2669\n",
            "Epoch 12/40\n",
            "500/500 [==============================] - 344s - loss: 0.2822 - val_loss: 0.2700\n",
            "Epoch 13/40\n",
            "500/500 [==============================] - 345s - loss: 0.2785 - val_loss: 0.2698\n",
            "Epoch 14/40\n",
            "500/500 [==============================] - 345s - loss: 0.2775 - val_loss: 0.2634\n",
            "Epoch 15/40\n",
            "500/500 [==============================] - 344s - loss: 0.2778 - val_loss: 0.2653\n",
            "Epoch 16/40\n",
            "500/500 [==============================] - 344s - loss: 0.2740 - val_loss: 0.2633\n",
            "Epoch 17/40\n",
            "500/500 [==============================] - 344s - loss: 0.2746 - val_loss: 0.2680\n",
            "Epoch 18/40\n",
            "500/500 [==============================] - 344s - loss: 0.2731 - val_loss: 0.2649\n",
            "Epoch 19/40\n",
            "500/500 [==============================] - 345s - loss: 0.2709 - val_loss: 0.2699\n",
            "Epoch 20/40\n",
            "500/500 [==============================] - 344s - loss: 0.2693 - val_loss: 0.2655\n",
            "Epoch 21/40\n",
            "500/500 [==============================] - 345s - loss: 0.2679 - val_loss: 0.2654\n",
            "Epoch 22/40\n",
            "500/500 [==============================] - 344s - loss: 0.2677 - val_loss: 0.2731\n",
            "Epoch 23/40\n",
            "500/500 [==============================] - 345s - loss: 0.2672 - val_loss: 0.2680\n",
            "Epoch 24/40\n",
            "500/500 [==============================] - 345s - loss: 0.2648 - val_loss: 0.2669\n",
            "Epoch 25/40\n",
            "500/500 [==============================] - 345s - loss: 0.2645 - val_loss: 0.2655\n",
            "Epoch 26/40\n",
            "500/500 [==============================] - 344s - loss: 0.2648 - val_loss: 0.2673\n",
            "Epoch 27/40\n",
            "500/500 [==============================] - 344s - loss: 0.2624 - val_loss: 0.2694\n",
            "Epoch 28/40\n",
            "500/500 [==============================] - 344s - loss: 0.2624 - val_loss: 0.2698\n",
            "Epoch 29/40\n",
            "500/500 [==============================] - 344s - loss: 0.2602 - val_loss: 0.2765\n",
            "Epoch 30/40\n",
            "500/500 [==============================] - 344s - loss: 0.2596 - val_loss: 0.2795\n",
            "Epoch 31/40\n",
            "500/500 [==============================] - 344s - loss: 0.2598 - val_loss: 0.2688\n",
            "Epoch 32/40\n",
            "500/500 [==============================] - 344s - loss: 0.2590 - val_loss: 0.2724\n",
            "Epoch 33/40\n",
            "500/500 [==============================] - 344s - loss: 0.2581 - val_loss: 0.2754\n",
            "Epoch 34/40\n",
            "500/500 [==============================] - 344s - loss: 0.2570 - val_loss: 0.2688\n",
            "Epoch 35/40\n",
            "500/500 [==============================] - 344s - loss: 0.2559 - val_loss: 0.2753\n",
            "Epoch 36/40\n",
            "500/500 [==============================] - 345s - loss: 0.2552 - val_loss: 0.2719\n",
            "Epoch 37/40\n",
            "500/500 [==============================] - 344s - loss: 0.2552 - val_loss: 0.2745\n",
            "Epoch 38/40\n",
            "500/500 [==============================] - 344s - loss: 0.2537 - val_loss: 0.2761\n",
            "Epoch 39/40\n",
            "500/500 [==============================] - 344s - loss: 0.2546 - val_loss: 0.2793\n",
            "Epoch 40/40\n",
            "500/500 [==============================] - 345s - loss: 0.2532 - val_loss: 0.2782\n"
          ],
          "name": "stdout"
        }
      ]
    },
    {
      "metadata": {
        "id": "h0X2aVpOY-Vq",
        "colab_type": "text"
      },
      "cell_type": "markdown",
      "source": [
        "Let's take a look at our results:"
      ]
    },
    {
      "metadata": {
        "id": "w2VAVbdhY-Vs",
        "colab_type": "code",
        "colab": {
          "base_uri": "https://localhost:8080/",
          "height": 362
        },
        "outputId": "e16a8068-0a7d-4172-fb42-613356b5d955"
      },
      "cell_type": "code",
      "source": [
        "loss = history.history['loss']\n",
        "val_loss = history.history['val_loss']\n",
        "\n",
        "epochs = range(len(loss))\n",
        "\n",
        "plt.figure()\n",
        "\n",
        "plt.plot(epochs, loss, 'bo', label='Training loss')\n",
        "plt.plot(epochs, val_loss, 'b', label='Validation loss')\n",
        "plt.title('Training and validation loss')\n",
        "plt.legend()\n",
        "\n",
        "plt.show()"
      ],
      "execution_count": 31,
      "outputs": [
        {
          "output_type": "display_data",
          "data": {
            "image/png": "[encoded data removed]",
            "text/plain": [
              "<matplotlib.figure.Figure at 0x7f1e9d0b5d68>"
            ]
          },
          "metadata": {
            "tags": []
          }
        }
      ]
    },
    {
      "metadata": {
        "id": "cGuZHSLoY-Vy",
        "colab_type": "text"
      },
      "cell_type": "markdown",
      "source": [
        "We can see that the added layers does improve ours results by a bit, albeit not very significantly. We can draw two conclusions:\n",
        "\n",
        "* Since we are still not overfitting too badly, we could safely increase the size of our layers, in quest for a bit of validation loss \n",
        "improvement. This does have a non-negligible computational cost, though. \n",
        "* Since adding a layer did not help us by a significant factor, we may be seeing diminishing returns to increasing network capacity at this \n",
        "point."
      ]
    },
    {
      "metadata": {
        "id": "J3nntQp6Y-Vy",
        "colab_type": "text"
      },
      "cell_type": "markdown",
      "source": [
        "## Using bidirectional RNNs\n",
        "\n",
        "\n",
        "The last technique that we will introduce in this section is called \"bidirectional RNNs\". A bidirectional RNN is common RNN variant which \n",
        "can offer higher performance than a regular RNN on certain tasks. It is frequently used in natural language processing -- you could call it \n",
        "the Swiss army knife of deep learning for NLP.\n",
        "\n",
        "RNNs are notably order-dependent, or time-dependent: they process the timesteps of their input sequences in order, and shuffling or \n",
        "reversing the timesteps can completely change the representations that the RNN will extract from the sequence. This is precisely the reason \n",
        "why they perform well on problems where order is meaningful, such as our temperature forecasting problem. A bidirectional RNN exploits \n",
        "the order-sensitivity of RNNs: it simply consists of two regular RNNs, such as the GRU or LSTM layers that you are already familiar with, \n",
        "each processing input sequence in one direction (chronologically and antichronologically), then merging their representations. By \n",
        "processing a sequence both way, a bidirectional RNN is able to catch patterns that may have been overlooked by a one-direction RNN.\n",
        "\n",
        "Remarkably, the fact that the RNN layers in this section have so far processed sequences in chronological order (older timesteps first) may \n",
        "have been an arbitrary decision. At least, it's a decision we made no attempt at questioning so far. Could it be that our RNNs could have \n",
        "performed well enough if it were processing input sequences in antichronological order, for instance (newer timesteps first)? Let's try \n",
        "this in practice and see what we get. All we need to do is write a variant of our data generator, where the input sequences get reverted \n",
        "along the time dimension (replace the last line with `yield samples[:, ::-1, :], targets`). Training the same one-GRU-layer network as we \n",
        "used in the first experiment in this section, we get the following results:"
      ]
    },
    {
      "metadata": {
        "id": "122Jyla-Y-V0",
        "colab_type": "code",
        "colab": {}
      },
      "cell_type": "code",
      "source": [
        "def reverse_order_generator(data, lookback, delay, min_index, max_index,\n",
        "                            shuffle=False, batch_size=128, step=6):\n",
        "    if max_index is None:\n",
        "        max_index = len(data) - delay - 1\n",
        "    i = min_index + lookback\n",
        "    while 1:\n",
        "        if shuffle:\n",
        "            rows = np.random.randint(\n",
        "                min_index + lookback, max_index, size=batch_size)\n",
        "        else:\n",
        "            if i + batch_size >= max_index:\n",
        "                i = min_index + lookback\n",
        "            rows = np.arange(i, min(i + batch_size, max_index))\n",
        "            i += len(rows)\n",
        "\n",
        "        samples = np.zeros((len(rows),\n",
        "                           lookback // step,\n",
        "                           data.shape[-1]))\n",
        "        targets = np.zeros((len(rows),))\n",
        "        for j, row in enumerate(rows):\n",
        "            indices = range(rows[j] - lookback, rows[j], step)\n",
        "            samples[j] = data[indices]\n",
        "            targets[j] = data[rows[j] + delay][1]\n",
        "        yield samples[:, ::-1, :], targets\n",
        "        \n",
        "train_gen_reverse = reverse_order_generator(\n",
        "    float_data,\n",
        "    lookback=lookback,\n",
        "    delay=delay,\n",
        "    min_index=0,\n",
        "    max_index=200000,\n",
        "    shuffle=True,\n",
        "    step=step, \n",
        "    batch_size=batch_size)\n",
        "val_gen_reverse = reverse_order_generator(\n",
        "    float_data,\n",
        "    lookback=lookback,\n",
        "    delay=delay,\n",
        "    min_index=200001,\n",
        "    max_index=300000,\n",
        "    step=step,\n",
        "    batch_size=batch_size)"
      ],
      "execution_count": 0,
      "outputs": []
    },
    {
      "metadata": {
        "id": "mYrT2uUfY-V6",
        "colab_type": "code",
        "colab": {},
        "outputId": "9c1af574-b782-4b2a-e2e7-057a8c56ea21"
      },
      "cell_type": "code",
      "source": [
        "model = Sequential()\n",
        "model.add(layers.GRU(32, input_shape=(None, float_data.shape[-1])))\n",
        "model.add(layers.Dense(1))\n",
        "\n",
        "model.compile(optimizer=RMSprop(), loss='mae')\n",
        "history = model.fit_generator(train_gen_reverse,\n",
        "                              steps_per_epoch=500,\n",
        "                              epochs=20,\n",
        "                              validation_data=val_gen_reverse,\n",
        "                              validation_steps=val_steps)"
      ],
      "execution_count": 0,
      "outputs": [
        {
          "output_type": "stream",
          "text": [
            "Epoch 1/20\n",
            "500/500 [==============================] - 172s - loss: 0.4781 - val_loss: 0.4797\n",
            "Epoch 2/20\n",
            "500/500 [==============================] - 171s - loss: 0.4529 - val_loss: 0.4679\n",
            "Epoch 3/20\n",
            "500/500 [==============================] - 170s - loss: 0.4071 - val_loss: 0.4536\n",
            "Epoch 4/20\n",
            "500/500 [==============================] - 171s - loss: 0.3670 - val_loss: 0.4398\n",
            "Epoch 5/20\n",
            "500/500 [==============================] - 170s - loss: 0.3343 - val_loss: 0.4320\n",
            "Epoch 6/20\n",
            "500/500 [==============================] - 170s - loss: 0.3191 - val_loss: 0.4388\n",
            "Epoch 7/20\n",
            "500/500 [==============================] - 170s - loss: 0.3065 - val_loss: 0.4186\n",
            "Epoch 8/20\n",
            "500/500 [==============================] - 170s - loss: 0.2938 - val_loss: 0.4014\n",
            "Epoch 9/20\n",
            "500/500 [==============================] - 170s - loss: 0.2824 - val_loss: 0.4077\n",
            "Epoch 10/20\n",
            "500/500 [==============================] - 170s - loss: 0.2724 - val_loss: 0.4090\n",
            "Epoch 11/20\n",
            "500/500 [==============================] - 170s - loss: 0.2670 - val_loss: 0.3990\n",
            "Epoch 12/20\n",
            "500/500 [==============================] - 170s - loss: 0.2613 - val_loss: 0.4146\n",
            "Epoch 13/20\n",
            "500/500 [==============================] - 170s - loss: 0.2548 - val_loss: 0.4013\n",
            "Epoch 14/20\n",
            "500/500 [==============================] - 170s - loss: 0.2521 - val_loss: 0.4086\n",
            "Epoch 15/20\n",
            "500/500 [==============================] - 170s - loss: 0.2458 - val_loss: 0.4178\n",
            "Epoch 16/20\n",
            "500/500 [==============================] - 170s - loss: 0.2437 - val_loss: 0.4097\n",
            "Epoch 17/20\n",
            "500/500 [==============================] - 170s - loss: 0.2416 - val_loss: 0.4163\n",
            "Epoch 18/20\n",
            "500/500 [==============================] - 170s - loss: 0.2373 - val_loss: 0.4174\n",
            "Epoch 19/20\n",
            "500/500 [==============================] - 170s - loss: 0.2355 - val_loss: 0.4064\n",
            "Epoch 20/20\n",
            "500/500 [==============================] - 170s - loss: 0.2313 - val_loss: 0.4261\n"
          ],
          "name": "stdout"
        }
      ]
    },
    {
      "metadata": {
        "id": "yj83mkQ4Y-V-",
        "colab_type": "code",
        "colab": {},
        "outputId": "89bd1645-0641-4547-8ea4-0185ed0f23c2"
      },
      "cell_type": "code",
      "source": [
        "loss = history.history['loss']\n",
        "val_loss = history.history['val_loss']\n",
        "\n",
        "epochs = range(len(loss))\n",
        "\n",
        "plt.figure()\n",
        "\n",
        "plt.plot(epochs, loss, 'bo', label='Training loss')\n",
        "plt.plot(epochs, val_loss, 'b', label='Validation loss')\n",
        "plt.title('Training and validation loss')\n",
        "plt.legend()\n",
        "\n",
        "plt.show()"
      ],
      "execution_count": 0,
      "outputs": [
        {
          "output_type": "display_data",
          "data": {
            "text/plain": [
              "<matplotlib.figure.Figure at 0x7f3314e81860>"
            ]
          },
          "metadata": {
            "tags": []
          }
        },
        {
          "output_type": "display_data",
          "data": {
            "image/png": "[encoded data removed]",
            "text/plain": [
              "<matplotlib.figure.Figure at 0x7f330f25bcc0>"
            ]
          },
          "metadata": {
            "tags": []
          }
        }
      ]
    },
    {
      "metadata": {
        "id": "j7XtZEpsY-WK",
        "colab_type": "text"
      },
      "cell_type": "markdown",
      "source": [
        "\n",
        "So the reversed-order GRU strongly underperforms even the common-sense baseline, indicating that the in our case chronological processing is very \n",
        "important to the success of our approach. This makes perfect sense: the underlying GRU layer will typically be better at remembering the \n",
        "recent past than the distant past, and naturally the more recent weather data points are more predictive than older data points in our \n",
        "problem (that's precisely what makes the common-sense baseline a fairly strong baseline). Thus the chronological version of the layer is \n",
        "bound to outperform the reversed-order version. Importantly, this is generally not true for many other problems, including natural \n",
        "language: intuitively, the importance of a word in understanding a sentence is not usually dependent on its position in the sentence. Let's \n",
        "try the same trick on the LSTM IMDB example from the previous section:"
      ]
    },
    {
      "metadata": {
        "id": "lZnKHmEfY-WM",
        "colab_type": "code",
        "colab": {},
        "outputId": "b8d767da-a0ac-46d5-802c-6181a5f82839"
      },
      "cell_type": "code",
      "source": [
        "from keras.datasets import imdb\n",
        "from keras.preprocessing import sequence\n",
        "from keras import layers\n",
        "from keras.models import Sequential\n",
        "\n",
        "# Number of words to consider as features\n",
        "max_features = 10000\n",
        "# Cut texts after this number of words (among top max_features most common words)\n",
        "maxlen = 500\n",
        "\n",
        "# Load data\n",
        "(x_train, y_train), (x_test, y_test) = imdb.load_data(num_words=max_features)\n",
        "\n",
        "# Reverse sequences\n",
        "x_train = [x[::-1] for x in x_train]\n",
        "x_test = [x[::-1] for x in x_test]\n",
        "\n",
        "# Pad sequences\n",
        "x_train = sequence.pad_sequences(x_train, maxlen=maxlen)\n",
        "x_test = sequence.pad_sequences(x_test, maxlen=maxlen)\n",
        "\n",
        "model = Sequential()\n",
        "model.add(layers.Embedding(max_features, 128))\n",
        "model.add(layers.LSTM(32))\n",
        "model.add(layers.Dense(1, activation='sigmoid'))\n",
        "\n",
        "model.compile(optimizer='rmsprop',\n",
        "              loss='binary_crossentropy',\n",
        "              metrics=['acc'])\n",
        "history = model.fit(x_train, y_train,\n",
        "                    epochs=10,\n",
        "                    batch_size=128,\n",
        "                    validation_split=0.2)"
      ],
      "execution_count": 0,
      "outputs": [
        {
          "output_type": "stream",
          "text": [
            "Train on 20000 samples, validate on 5000 samples\n",
            "Epoch 1/10\n",
            "20000/20000 [==============================] - 111s - loss: 0.4965 - acc: 0.7648 - val_loss: 0.3593 - val_acc: 0.8570\n",
            "Epoch 2/10\n",
            "20000/20000 [==============================] - 107s - loss: 0.3105 - acc: 0.8810 - val_loss: 0.3329 - val_acc: 0.8648\n",
            "Epoch 3/10\n",
            "20000/20000 [==============================] - 105s - loss: 0.2566 - acc: 0.9057 - val_loss: 0.3863 - val_acc: 0.8770\n",
            "Epoch 4/10\n",
            "20000/20000 [==============================] - 106s - loss: 0.2231 - acc: 0.9195 - val_loss: 0.3471 - val_acc: 0.8556\n",
            "Epoch 5/10\n",
            "20000/20000 [==============================] - 105s - loss: 0.1912 - acc: 0.9314 - val_loss: 0.3346 - val_acc: 0.8694\n",
            "Epoch 6/10\n",
            "20000/20000 [==============================] - 105s - loss: 0.1721 - acc: 0.9379 - val_loss: 0.3621 - val_acc: 0.8520\n",
            "Epoch 7/10\n",
            "20000/20000 [==============================] - 105s - loss: 0.1613 - acc: 0.9427 - val_loss: 0.3438 - val_acc: 0.8694\n",
            "Epoch 8/10\n",
            "20000/20000 [==============================] - 105s - loss: 0.1502 - acc: 0.9503 - val_loss: 0.3890 - val_acc: 0.8588\n",
            "Epoch 9/10\n",
            "20000/20000 [==============================] - 105s - loss: 0.1369 - acc: 0.9520 - val_loss: 0.3626 - val_acc: 0.8768\n",
            "Epoch 10/10\n",
            "20000/20000 [==============================] - 105s - loss: 0.1249 - acc: 0.9579 - val_loss: 0.4639 - val_acc: 0.8566\n"
          ],
          "name": "stdout"
        }
      ]
    },
    {
      "metadata": {
        "id": "_v61s-VnY-WS",
        "colab_type": "text"
      },
      "cell_type": "markdown",
      "source": [
        "\n",
        "We get near-identical performance as the chronological-order LSTM we tried in the previous section.\n",
        "\n",
        "Thus, remarkably, on such a text dataset, reversed-order processing works just as well as chronological processing, confirming our \n",
        "hypothesis that, albeit word order *does* matter in understanding language, *which* order you use isn't crucial. Importantly, a RNN trained \n",
        "on reversed sequences will learn different representations than one trained on the original sequences, in much the same way that you would \n",
        "have quite different mental models if time flowed backwards in the real world -- if you lived a life where you died on your first day and \n",
        "you were born on your last day. In machine learning, representations that are *different* yet *useful* are always worth exploiting, and the \n",
        "more they differ the better: they offer a new angle from which to look at your data, capturing aspects of the data that were missed by other \n",
        "approaches, and thus they can allow to boost performance on a task. This is the intuition behind \"ensembling\", a concept that we will \n",
        "introduce in the next chapter.\n",
        "\n",
        "A bidirectional RNN exploits this idea to improve upon the performance of chronological-order RNNs: it looks at its inputs sequence both \n",
        "ways, obtaining potentially richer representations and capturing patterns that may have been missed by the chronological-order version alone."
      ]
    },
    {
      "metadata": {
        "id": "ZfRpMWDwY-WU",
        "colab_type": "text"
      },
      "cell_type": "markdown",
      "source": [
        "![bidirectional rnn](https://s3.amazonaws.com/book.keras.io/img/ch6/bidirectional_rnn.png)"
      ]
    },
    {
      "metadata": {
        "id": "17CZVRuYY-WU",
        "colab_type": "text"
      },
      "cell_type": "markdown",
      "source": [
        "To instantiate a bidirectional RNN in Keras, one would use the `Bidirectional` layer, which takes as first argument a recurrent layer \n",
        "instance. `Bidirectional` will create a second, separate instance of this recurrent layer, and will use one instance for processing the \n",
        "input sequences in chronological order and the other instance for processing the input sequences in reversed order. Let's try it on the \n",
        "IMDB sentiment analysis task:"
      ]
    },
    {
      "metadata": {
        "id": "mIXAUaa4Y-WW",
        "colab_type": "code",
        "colab": {}
      },
      "cell_type": "code",
      "source": [
        "from keras import backend as K\n",
        "K.clear_session()"
      ],
      "execution_count": 0,
      "outputs": []
    },
    {
      "metadata": {
        "id": "uRkIZcrvY-Wa",
        "colab_type": "code",
        "colab": {},
        "outputId": "00410aa6-61bd-4f7e-be24-5c71d39344d4"
      },
      "cell_type": "code",
      "source": [
        "model = Sequential()\n",
        "model.add(layers.Embedding(max_features, 32))\n",
        "model.add(layers.Bidirectional(layers.LSTM(32)))\n",
        "model.add(layers.Dense(1, activation='sigmoid'))\n",
        "\n",
        "model.compile(optimizer='rmsprop', loss='binary_crossentropy', metrics=['acc'])\n",
        "history = model.fit(x_train, y_train, epochs=10, batch_size=128, validation_split=0.2)"
      ],
      "execution_count": 0,
      "outputs": [
        {
          "output_type": "stream",
          "text": [
            "Train on 20000 samples, validate on 5000 samples\n",
            "Epoch 1/10\n",
            "20000/20000 [==============================] - 214s - loss: 0.5994 - acc: 0.6865 - val_loss: 0.4722 - val_acc: 0.8090\n",
            "Epoch 2/10\n",
            "20000/20000 [==============================] - 213s - loss: 0.3673 - acc: 0.8543 - val_loss: 0.3769 - val_acc: 0.8448\n",
            "Epoch 3/10\n",
            "20000/20000 [==============================] - 213s - loss: 0.2743 - acc: 0.8972 - val_loss: 0.3196 - val_acc: 0.8688\n",
            "Epoch 4/10\n",
            "20000/20000 [==============================] - 211s - loss: 0.2310 - acc: 0.9150 - val_loss: 0.2972 - val_acc: 0.8856\n",
            "Epoch 5/10\n",
            "20000/20000 [==============================] - 211s - loss: 0.2009 - acc: 0.9261 - val_loss: 0.4461 - val_acc: 0.8514\n",
            "Epoch 6/10\n",
            "20000/20000 [==============================] - 210s - loss: 0.1912 - acc: 0.9339 - val_loss: 0.3636 - val_acc: 0.8640\n",
            "Epoch 7/10\n",
            "20000/20000 [==============================] - 209s - loss: 0.1670 - acc: 0.9423 - val_loss: 0.3476 - val_acc: 0.8580\n",
            "Epoch 8/10\n",
            "20000/20000 [==============================] - 210s - loss: 0.1523 - acc: 0.9469 - val_loss: 0.3887 - val_acc: 0.8830\n",
            "Epoch 9/10\n",
            "20000/20000 [==============================] - 209s - loss: 0.1431 - acc: 0.9506 - val_loss: 0.3781 - val_acc: 0.8810\n",
            "Epoch 10/10\n",
            "20000/20000 [==============================] - 209s - loss: 0.1366 - acc: 0.9521 - val_loss: 0.3713 - val_acc: 0.8792\n"
          ],
          "name": "stdout"
        }
      ]
    },
    {
      "metadata": {
        "id": "jUEN2LYeY-Wi",
        "colab_type": "text"
      },
      "cell_type": "markdown",
      "source": [
        "It performs slightly better than the regular LSTM we tried in the previous section, going above 88% validation accuracy. It also seems to \n",
        "overfit faster, which is unsurprising since a bidirectional layer has twice more parameters than a chronological LSTM. With some \n",
        "regularization, the bidirectional approach would likely be a strong performer on this task.\n",
        "\n",
        "Now let's try the same approach on the weather prediction task:"
      ]
    },
    {
      "metadata": {
        "id": "lEaM4SrNY-Wi",
        "colab_type": "code",
        "colab": {},
        "outputId": "4a34b2cc-dcd7-484e-8d65-8dc1dc9fb69f"
      },
      "cell_type": "code",
      "source": [
        "from keras.models import Sequential\n",
        "from keras import layers\n",
        "from keras.optimizers import RMSprop\n",
        "\n",
        "model = Sequential()\n",
        "model.add(layers.Bidirectional(\n",
        "    layers.GRU(32), input_shape=(None, float_data.shape[-1])))\n",
        "model.add(layers.Dense(1))\n",
        "\n",
        "model.compile(optimizer=RMSprop(), loss='mae')\n",
        "history = model.fit_generator(train_gen,\n",
        "                              steps_per_epoch=500,\n",
        "                              epochs=40,\n",
        "                              validation_data=val_gen,\n",
        "                              validation_steps=val_steps)"
      ],
      "execution_count": 0,
      "outputs": [
        {
          "output_type": "stream",
          "text": [
            "Epoch 1/40\n",
            "500/500 [==============================] - 325s - loss: 0.3029 - val_loss: 0.2660\n",
            "Epoch 2/40\n",
            "500/500 [==============================] - 324s - loss: 0.2751 - val_loss: 0.2660\n",
            "Epoch 3/40\n",
            "500/500 [==============================] - 326s - loss: 0.2668 - val_loss: 0.2628\n",
            "Epoch 4/40\n",
            "500/500 [==============================] - 326s - loss: 0.2594 - val_loss: 0.2615\n",
            "Epoch 5/40\n",
            "500/500 [==============================] - 324s - loss: 0.2532 - val_loss: 0.2684\n",
            "Epoch 6/40\n",
            "500/500 [==============================] - 324s - loss: 0.2442 - val_loss: 0.2674\n",
            "Epoch 7/40\n",
            "500/500 [==============================] - 324s - loss: 0.2405 - val_loss: 0.2700\n",
            "Epoch 8/40\n",
            "500/500 [==============================] - 324s - loss: 0.2343 - val_loss: 0.2782\n",
            "Epoch 9/40\n",
            "500/500 [==============================] - 324s - loss: 0.2293 - val_loss: 0.2778\n",
            "Epoch 10/40\n",
            "500/500 [==============================] - 324s - loss: 0.2233 - val_loss: 0.2813\n",
            "Epoch 11/40\n",
            "500/500 [==============================] - 324s - loss: 0.2167 - val_loss: 0.2978\n",
            "Epoch 12/40\n",
            "500/500 [==============================] - 324s - loss: 0.2116 - val_loss: 0.2984\n",
            "Epoch 13/40\n",
            "500/500 [==============================] - 324s - loss: 0.2061 - val_loss: 0.2920\n",
            "Epoch 14/40\n",
            "500/500 [==============================] - 323s - loss: 0.2008 - val_loss: 0.3016\n",
            "Epoch 15/40\n",
            "500/500 [==============================] - 324s - loss: 0.1952 - val_loss: 0.2985\n",
            "Epoch 16/40\n",
            "500/500 [==============================] - 324s - loss: 0.1915 - val_loss: 0.3029\n",
            "Epoch 17/40\n",
            "500/500 [==============================] - 323s - loss: 0.1862 - val_loss: 0.3127\n",
            "Epoch 18/40\n",
            "500/500 [==============================] - 324s - loss: 0.1821 - val_loss: 0.3079\n",
            "Epoch 19/40\n",
            "500/500 [==============================] - 324s - loss: 0.1772 - val_loss: 0.3116\n",
            "Epoch 20/40\n",
            "500/500 [==============================] - 323s - loss: 0.1735 - val_loss: 0.3151\n",
            "Epoch 21/40\n",
            "500/500 [==============================] - 323s - loss: 0.1705 - val_loss: 0.3208\n",
            "Epoch 22/40\n",
            "500/500 [==============================] - 324s - loss: 0.1664 - val_loss: 0.3345\n",
            "Epoch 23/40\n",
            "500/500 [==============================] - 323s - loss: 0.1631 - val_loss: 0.3162\n",
            "Epoch 24/40\n",
            "500/500 [==============================] - 324s - loss: 0.1604 - val_loss: 0.3141\n",
            "Epoch 25/40\n",
            "500/500 [==============================] - 324s - loss: 0.1572 - val_loss: 0.3173\n",
            "Epoch 26/40\n",
            "500/500 [==============================] - 325s - loss: 0.1559 - val_loss: 0.3156\n",
            "Epoch 27/40\n",
            "500/500 [==============================] - 324s - loss: 0.1530 - val_loss: 0.3227\n",
            "Epoch 28/40\n",
            "500/500 [==============================] - 324s - loss: 0.1521 - val_loss: 0.3288\n",
            "Epoch 29/40\n",
            "500/500 [==============================] - 325s - loss: 0.1496 - val_loss: 0.3264\n",
            "Epoch 30/40\n",
            "500/500 [==============================] - 324s - loss: 0.1481 - val_loss: 0.3266\n",
            "Epoch 31/40\n",
            "500/500 [==============================] - 323s - loss: 0.1456 - val_loss: 0.3241\n",
            "Epoch 32/40\n",
            "500/500 [==============================] - 323s - loss: 0.1436 - val_loss: 0.3293\n",
            "Epoch 33/40\n",
            "500/500 [==============================] - 324s - loss: 0.1426 - val_loss: 0.3301\n",
            "Epoch 34/40\n",
            "500/500 [==============================] - 324s - loss: 0.1409 - val_loss: 0.3298\n",
            "Epoch 35/40\n",
            "500/500 [==============================] - 324s - loss: 0.1399 - val_loss: 0.3372\n",
            "Epoch 36/40\n",
            "500/500 [==============================] - 323s - loss: 0.1387 - val_loss: 0.3304\n",
            "Epoch 37/40\n",
            "500/500 [==============================] - 324s - loss: 0.1388 - val_loss: 0.3324\n",
            "Epoch 38/40\n",
            "500/500 [==============================] - 324s - loss: 0.1362 - val_loss: 0.3317\n",
            "Epoch 39/40\n",
            "500/500 [==============================] - 323s - loss: 0.1342 - val_loss: 0.3319\n",
            "Epoch 40/40\n",
            "500/500 [==============================] - 324s - loss: 0.1350 - val_loss: 0.3289\n"
          ],
          "name": "stdout"
        }
      ]
    },
    {
      "metadata": {
        "id": "bzpRR6lxY-Wo",
        "colab_type": "text"
      },
      "cell_type": "markdown",
      "source": [
        "\n",
        "It performs about as well as the regular GRU layer. It's easy to understand why: all of the predictive capacity must be coming from the \n",
        "chronological half of the network, since the anti-chronological half is known to be severely underperforming on this task (again, because \n",
        "the recent past matters much more than the distant past in this case)."
      ]
    },
    {
      "metadata": {
        "id": "PcSlVjJxY-Wq",
        "colab_type": "text"
      },
      "cell_type": "markdown",
      "source": [
        "\n",
        "## Going even further\n",
        "\n",
        "At this stage, there are still many other things you could try in order to improve performance on our weather forecasting problem:\n",
        "\n",
        "* Adjust the number of units in each recurrent layer in the stacked setup. Our current choices are largely arbitrary and thus likely \n",
        "suboptimal.\n",
        "* Adjust the learning rate used by our `RMSprop` optimizer.\n",
        "* Try using `LSTM` layers instead of `GRU` layers.\n",
        "* Try using a bigger densely-connected regressor on top of the recurrent layers, i.e. a bigger `Dense` layer or even a stack of `Dense` \n",
        "layers.\n",
        "* Don't forget to eventually run the best performing models (in terms of validation MAE) on the test set! Least you start developing \n",
        "architectures that are overfitting to the validation set.   \n",
        "\n",
        "As usual: deep learning is more an art than a science, and while we can provide guidelines as to what is likely to work or not work on a \n",
        "given problem, ultimately every problem is unique and you will have to try and evaluate different strategies empirically. There is \n",
        "currently no theory that will tell you in advance precisely what you should do to optimally solve a problem. You must try and iterate.\n",
        "\n",
        "\n",
        "## Wrapping up\n",
        "\n",
        "Here's what you should take away from this section:\n",
        "\n",
        "* As you first learned in Chapter 4, when approaching a new problem, \n",
        "it is good to first establish common sense baselines for your metric of choice. If you don't have a \n",
        "baseline to beat, you can't tell if you are making any real progress.\n",
        "* Try simple models before expensive ones, to justify the additional expense. Sometimes a simple model will turn out to be your best option.\n",
        "* On data where temporal ordering matters, recurrent networks are a great fit and easily outperform models that first flatten the temporal \n",
        "data.\n",
        "* To use dropout with recurrent networks, one should use a time-constant dropout mask and recurrent dropout mask. This is built into Keras \n",
        "recurrent layers, so all you have to do is use the `dropout` and `recurrent_dropout` arguments of recurrent layers.\n",
        "* Stacked RNNs provide more representational power than a single RNN layer. They are also much more expensive, and thus not always worth it. \n",
        "While they offer clear gains on complex problems (e.g. machine translation), they might not always be relevant to smaller, simpler problems.\n",
        "* Bidirectional RNNs, which look at a sequence both ways, are very useful on natural language processing problems. However, they will not \n",
        "be strong performers on sequence data where the recent past is much more informative than the beginning of the sequence.\n",
        "\n",
        "Note there are two important concepts that we will not cover in detail here: recurrent \"attention\", and sequence masking. Both tend to be \n",
        "especially relevant for natural language processing, and are not particularly applicable to our temperature forecasting problem. We will \n",
        "leave them for future study outside of this book."
      ]
    }
  ]
}